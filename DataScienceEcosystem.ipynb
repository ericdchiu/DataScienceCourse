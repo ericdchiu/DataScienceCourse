{
 "cells": [
  {
   "cell_type": "markdown",
   "id": "8d11aa1a-35e6-445d-bc5e-8953dbebe839",
   "metadata": {},
   "source": [
    "# Data Science Tools and Ecosystem"
   ]
  },
  {
   "cell_type": "markdown",
   "id": "fac1a4e9-2bcb-42d7-aeb2-7ed120dbc8d7",
   "metadata": {},
   "source": [
    "In this notebook, Data Science Tools and Ecosystem are summarized."
   ]
  },
  {
   "cell_type": "markdown",
   "id": "c6081ee5-972b-4d8b-9d3d-87dc69280f84",
   "metadata": {},
   "source": [
    "## Objectives:\n",
    "Python, R, Apache"
   ]
  },
  {
   "cell_type": "markdown",
   "id": "81a7bc5f-1526-4d5f-9771-d5b4c1ecd876",
   "metadata": {},
   "source": [
    "## Some of the popular languages that Data Scientists use are:\n",
    "1. Python\n",
    "2. R\n",
    "3. Apache"
   ]
  },
  {
   "cell_type": "markdown",
   "id": "3674943a-e1db-44a9-b6bd-ce3dee4873a9",
   "metadata": {},
   "source": [
    "## Some of the commonly used libraries used by Data Scientists include:\n",
    "1. scikit-learn\n",
    "2. ggplot\n",
    "3. matplotlib"
   ]
  },
  {
   "cell_type": "markdown",
   "id": "7da6ac98-7355-458b-abe4-67d4acda5246",
   "metadata": {},
   "source": [
    "| Data Science Tools |\n",
    "|--------------------|\n",
    "| Jupyter Notebooks  |\n",
    "| RStudio            |\n",
    "| VS Code with Python extension |\n"
   ]
  },
  {
   "cell_type": "markdown",
   "id": "fa5beba8-6db4-4ae0-80b4-68a200787aea",
   "metadata": {},
   "source": [
    "### Below are a few examples of evaluating arithmetic expressions in Python.\n",
    "\n",
    "```python\n",
    "# Example of evaluating arithmetic expressions in Python\n",
    "# Addition\n",
    "result_addition = 2 + 3\n",
    "print(\"Result of addition:\", result_addition)\n",
    "\n",
    "# Subtraction\n",
    "result_subtraction = 5 - 2\n",
    "print(\"Result of subtraction:\", result_subtraction)\n",
    "\n",
    "# Multiplication\n",
    "result_multiplication = 4 * 6\n",
    "print(\"Result of multiplication:\", result_multiplication)\n",
    "\n",
    "# Division\n",
    "result_division = 10 / 2\n",
    "print(\"Result of division:\", result_division)\n",
    "\n",
    "# Exponentiation\n",
    "result_exponentiation = 2 ** 3\n",
    "print(\"Result of exponentiation:\", result_exponentiation)\n",
    "\n"
   ]
  },
  {
   "cell_type": "code",
   "execution_count": 4,
   "id": "29897874-05f9-4719-a7bb-7f53bc1f3e40",
   "metadata": {
    "tags": []
   },
   "outputs": [
    {
     "name": "stdout",
     "output_type": "stream",
     "text": [
      "17\n"
     ]
    }
   ],
   "source": [
    "# This is a simple arithmetic expression to multiply then add integers\n",
    "result = (3 * 4) + 5\n",
    "print(result)\n"
   ]
  },
  {
   "cell_type": "code",
   "execution_count": 3,
   "id": "f16a2201-1dad-4d57-b7df-5e7d81d70c66",
   "metadata": {
    "tags": []
   },
   "outputs": [
    {
     "name": "stdout",
     "output_type": "stream",
     "text": [
      "3.3333333333333335\n"
     ]
    }
   ],
   "source": [
    "# This will convert 200 minutes to hours by dividing by 60\n",
    "minutes = 200\n",
    "hours = minutes / 60\n",
    "print(hours)"
   ]
  },
  {
   "cell_type": "markdown",
   "id": "3c12f284-f180-4817-ace9-c22cae9b172f",
   "metadata": {},
   "source": [
    "## Author\n",
    "Eric Chiu"
   ]
  },
  {
   "cell_type": "code",
   "execution_count": null,
   "id": "d6767b30-eeb2-4f6c-bfe2-f0ceb0752a22",
   "metadata": {},
   "outputs": [],
   "source": []
  }
 ],
 "metadata": {
  "kernelspec": {
   "display_name": "Python 3 (ipykernel)",
   "language": "python",
   "name": "python3"
  },
  "language_info": {
   "codemirror_mode": {
    "name": "ipython",
    "version": 3
   },
   "file_extension": ".py",
   "mimetype": "text/x-python",
   "name": "python",
   "nbconvert_exporter": "python",
   "pygments_lexer": "ipython3",
   "version": "3.11.5"
  }
 },
 "nbformat": 4,
 "nbformat_minor": 5
}
